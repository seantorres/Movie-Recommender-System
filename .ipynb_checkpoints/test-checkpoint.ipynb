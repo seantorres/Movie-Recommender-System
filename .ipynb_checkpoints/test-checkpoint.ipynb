{
 "cells": [
  {
   "cell_type": "code",
   "execution_count": 11,
   "metadata": {},
   "outputs": [],
   "source": [
    "#!pip install boto3==1.17.106 s3fs pandas==1.3.5\n",
    "#!pip install numpy --upgrade\n",
    "#!pip install fuzzywuzzy\n",
    "#!pip install python-Levenshtein\n",
    "#!pip freeze\n",
    "#!pip install scikit-learn"
   ]
  },
  {
   "cell_type": "code",
   "execution_count": 12,
   "metadata": {},
   "outputs": [],
   "source": [
    "import pandas as pd\n",
    "import numpy as np\n",
    "import matplotlib.pyplot as plt\n",
    "import os\n",
    "import boto3\n",
    "import fuzzywuzzy\n",
    "import warnings\n",
    "import sklearn\n",
    "import matplotlib"
   ]
  },
  {
   "cell_type": "code",
   "execution_count": 13,
   "metadata": {},
   "outputs": [],
   "source": [
    "bucket = 's3://ads508-imdb-data1'\n",
    "\n",
    "names = pd.read_csv(f'{bucket}/ImdbName.csv', low_memory=False)\n",
    "akas = pd.read_csv(f'{bucket}/ImdbTitleAkas.csv', low_memory=False)\n",
    "titles = pd.read_csv(f'{bucket}/ImdbTitleBasics.csv', low_memory=False)\n",
    "crew = pd.read_csv(f'{bucket}/ImdbTitleCrew.csv', low_memory=False)\n",
    "episode = pd.read_csv(f'{bucket}/ImdbTitleEpisode.csv', low_memory=False)\n",
    "principals = pd.read_csv(f'{bucket}/ImdbTitlePrincipals.csv', low_memory=False)\n",
    "ratings = pd.read_csv(f'{bucket}/ImdbTitleRatings.csv', low_memory=False)\n",
    "plots = pd.read_csv(f'{bucket}/movies_initial.csv', low_memory=False)\n",
    "netflix = pd.read_csv(f'{bucket}/NetFlix.csv', low_memory=False)"
   ]
  },
  {
   "cell_type": "code",
   "execution_count": 14,
   "metadata": {},
   "outputs": [
    {
     "data": {
      "text/plain": [
       "((1048575, 6),\n",
       " (1048575, 8),\n",
       " (1048575, 9),\n",
       " (1048575, 3),\n",
       " (5652641, 4),\n",
       " (1048575, 6),\n",
       " (1048575, 3),\n",
       " (46014, 21),\n",
       " (7787, 12))"
      ]
     },
     "execution_count": 14,
     "metadata": {},
     "output_type": "execute_result"
    }
   ],
   "source": [
    "names.shape, akas.shape, titles.shape, crew.shape, episode.shape, principals.shape, ratings.shape, plots.shape, netflix.shape"
   ]
  },
  {
   "cell_type": "markdown",
   "metadata": {},
   "source": [
    "### String compare\n"
   ]
  },
  {
   "cell_type": "code",
   "execution_count": null,
   "metadata": {},
   "outputs": [],
   "source": [
    "from fuzzywuzzy import fuzz\n",
    "\n",
    "\n",
    "\n",
    "\n",
    "\n",
    "\n",
    "def Str_cmpr_pct():\n",
    "Str1 = store1\n",
    "Str2 = store2\n",
    "Distance = levenshtein_ratio_and_distance(Str1.lower(),Str2.lower())\n",
    "print(Distance)\n",
    "Ratio = levenshtein_ratio_and_distance(Str1.lower(),Str2.lower(),ratio_calc = True)\n",
    "print(Ratio)"
   ]
  },
  {
   "cell_type": "code",
   "execution_count": null,
   "metadata": {},
   "outputs": [],
   "source": []
  }
 ],
 "metadata": {
  "instance_type": "ml.t3.medium",
  "kernelspec": {
   "display_name": "Python 3 (Data Science)",
   "language": "python",
   "name": "python3__SAGEMAKER_INTERNAL__arn:aws:sagemaker:us-east-1:081325390199:image/datascience-1.0"
  },
  "language_info": {
   "codemirror_mode": {
    "name": "ipython",
    "version": 3
   },
   "file_extension": ".py",
   "mimetype": "text/x-python",
   "name": "python",
   "nbconvert_exporter": "python",
   "pygments_lexer": "ipython3",
   "version": "3.7.10"
  }
 },
 "nbformat": 4,
 "nbformat_minor": 4
}
