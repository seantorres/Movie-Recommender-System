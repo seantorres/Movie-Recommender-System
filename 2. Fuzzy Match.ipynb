{
 "cells": [
  {
   "cell_type": "code",
   "execution_count": null,
   "metadata": {},
   "outputs": [],
   "source": [
    "import pandas as pd\n",
    "import numpy as np\n",
    "from fuzzywuzzy import fuzz\n",
    "from fuzzywuzzy import process\n",
    "\n",
    "import warnings\n",
    "\n",
    "warnings.filterwarnings('ignore')\n",
    "\n",
    "pd.set_option(\"display.max_columns\", 50)"
   ]
  },
  {
   "cell_type": "markdown",
   "metadata": {},
   "source": [
    "## Data Loading"
   ]
  },
  {
   "cell_type": "code",
   "execution_count": null,
   "metadata": {},
   "outputs": [],
   "source": [
    "bucket = 's3://ads508-imdb-data'\n",
    "\n",
    "titles = pd.read_csv(f'{bucket}/ImdbTitleBasics.csv', low_memory=False)\n",
    "plots = pd.read_csv(f'{bucket}/movies_plots.csv', low_memory=False)\n",
    "netflix = pd.read_csv(f'{bucket}/NetFlix.csv', low_memory=False)"
   ]
  },
  {
   "cell_type": "code",
   "execution_count": null,
   "metadata": {},
   "outputs": [],
   "source": [
    "def fuzzy_match(x):\n",
    "    \n",
    "    global step\n",
    "    \n",
    "    results = process.extractOne(x['IMDB Title'], netflix['Netflix Title'].tolist(), scorer=fuzz.ratio)\n",
    "    \n",
    "    print('{}/{}'.format(step, netflix.shape[0]), flush=True, end='\\r')\n",
    "    \n",
    "    step += 1\n",
    "    \n",
    "    return results[0], results[1]"
   ]
  },
  {
   "cell_type": "code",
   "execution_count": null,
   "metadata": {},
   "outputs": [],
   "source": [
    "titles['imdb_id'] = titles['tconst'].replace('tt', '', regex=True).astype(int)\n",
    "\n",
    "titles = titles.merge(plots[['imdbID', 'plot', 'fullplot', 'country', 'awards']], how='inner', left_on='imdb_id', right_on='imdbID')\\\n",
    "                   .drop(columns=['imdb_id'])\\\n",
    "                   .drop_duplicates()\n",
    "\n",
    "netflix.rename(columns={'title':'Netflix Title'}, inplace=True)"
   ]
  },
  {
   "cell_type": "code",
   "execution_count": null,
   "metadata": {},
   "outputs": [],
   "source": [
    "match_list = titles[['originalTitle']].rename(columns={'originalTitle':'IMDB Title'}).drop_duplicates()"
   ]
  },
  {
   "cell_type": "code",
   "execution_count": null,
   "metadata": {},
   "outputs": [],
   "source": [
    "# step is for printing purpose\n",
    "step = 1\n",
    "match_list[['Matched Netflix Title', 'Match Score']] = match_list.apply(fuzzy_match, axis=1, result_type=\"expand\")"
   ]
  },
  {
   "cell_type": "code",
   "execution_count": null,
   "metadata": {},
   "outputs": [],
   "source": [
    "# Only keep those titles with 90 or higher match score\n",
    "match_list = match_list[match_list['Match Score']>=90]"
   ]
  }
 ],
 "metadata": {
  "instance_type": "ml.t3.medium",
  "kernelspec": {
   "display_name": "Python 3 (Data Science)",
   "language": "python",
   "name": "python3__SAGEMAKER_INTERNAL__arn:aws:sagemaker:us-east-1:081325390199:image/datascience-1.0"
  },
  "language_info": {
   "codemirror_mode": {
    "name": "ipython",
    "version": 3
   },
   "file_extension": ".py",
   "mimetype": "text/x-python",
   "name": "python",
   "nbconvert_exporter": "python",
   "pygments_lexer": "ipython3",
   "version": "3.7.10"
  }
 },
 "nbformat": 4,
 "nbformat_minor": 4
}
