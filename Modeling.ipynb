{
 "cells": [
  {
   "cell_type": "code",
   "execution_count": 61,
   "id": "958b1098-dd30-4427-8d8a-01eebaa28a86",
   "metadata": {},
   "outputs": [],
   "source": [
    "import pandas as pd\n",
    "from sklearn.metrics.pairwise import cosine_similarity\n",
    "\n",
    "import warnings \n",
    "\n",
    "warnings.filterwarnings('ignore')"
   ]
  },
  {
   "cell_type": "code",
   "execution_count": 2,
   "id": "6803750f-c00c-4e09-9f40-8c0fc9dbb37a",
   "metadata": {},
   "outputs": [],
   "source": [
    "imdb = pd.read_csv('processed_imdb.csv')\n",
    "netflix = pd.read_csv('processed_netflix.csv')"
   ]
  },
  {
   "cell_type": "code",
   "execution_count": 4,
   "id": "7dd789a6-2637-4378-a51e-4d1a60c2a122",
   "metadata": {},
   "outputs": [],
   "source": [
    "match_list = pd.read_csv('match_list.csv')"
   ]
  },
  {
   "cell_type": "code",
   "execution_count": 6,
   "id": "70f68df0-01f7-420d-8674-6f01a7a31c49",
   "metadata": {},
   "outputs": [
    {
     "data": {
      "text/plain": [
       "((28041, 783), (7787, 781), (1348, 3))"
      ]
     },
     "execution_count": 6,
     "metadata": {},
     "output_type": "execute_result"
    }
   ],
   "source": [
    "imdb.shape, netflix.shape, match_list.shape"
   ]
  },
  {
   "cell_type": "code",
   "execution_count": 5,
   "id": "bcb3f824-1c10-4a30-8873-80702b40e011",
   "metadata": {},
   "outputs": [
    {
     "data": {
      "text/html": [
       "<div>\n",
       "<style scoped>\n",
       "    .dataframe tbody tr th:only-of-type {\n",
       "        vertical-align: middle;\n",
       "    }\n",
       "\n",
       "    .dataframe tbody tr th {\n",
       "        vertical-align: top;\n",
       "    }\n",
       "\n",
       "    .dataframe thead th {\n",
       "        text-align: right;\n",
       "    }\n",
       "</style>\n",
       "<table border=\"1\" class=\"dataframe\">\n",
       "  <thead>\n",
       "    <tr style=\"text-align: right;\">\n",
       "      <th></th>\n",
       "      <th>IMDB Title</th>\n",
       "      <th>Matched Netflix Title</th>\n",
       "      <th>Match Score</th>\n",
       "    </tr>\n",
       "  </thead>\n",
       "  <tbody>\n",
       "    <tr>\n",
       "      <th>0</th>\n",
       "      <td>The Great Train Robbery</td>\n",
       "      <td>the great train robbery</td>\n",
       "      <td>100</td>\n",
       "    </tr>\n",
       "    <tr>\n",
       "      <th>1</th>\n",
       "      <td>By the Sea</td>\n",
       "      <td>by the sea</td>\n",
       "      <td>100</td>\n",
       "    </tr>\n",
       "    <tr>\n",
       "      <th>2</th>\n",
       "      <td>The Captive</td>\n",
       "      <td>the captive</td>\n",
       "      <td>100</td>\n",
       "    </tr>\n",
       "    <tr>\n",
       "      <th>3</th>\n",
       "      <td>In the Park</td>\n",
       "      <td>in the dark</td>\n",
       "      <td>91</td>\n",
       "    </tr>\n",
       "    <tr>\n",
       "      <th>4</th>\n",
       "      <td>The Tramp</td>\n",
       "      <td>the trap</td>\n",
       "      <td>94</td>\n",
       "    </tr>\n",
       "  </tbody>\n",
       "</table>\n",
       "</div>"
      ],
      "text/plain": [
       "                IMDB Title    Matched Netflix Title  Match Score\n",
       "0  The Great Train Robbery  the great train robbery          100\n",
       "1               By the Sea               by the sea          100\n",
       "2              The Captive              the captive          100\n",
       "3              In the Park              in the dark           91\n",
       "4                The Tramp                 the trap           94"
      ]
     },
     "execution_count": 5,
     "metadata": {},
     "output_type": "execute_result"
    }
   ],
   "source": [
    "match_list.head()"
   ]
  },
  {
   "cell_type": "code",
   "execution_count": 139,
   "id": "28e1b2e5-800d-47a6-8f70-c61a7039362d",
   "metadata": {},
   "outputs": [],
   "source": [
    "def get_recommendation(input_title, top_k=10, use_genre=True):\n",
    "    \n",
    "    input_title = imdb[imdb['IMDB Title']==input_title]\n",
    "    # By default, only show the top 10 closest titles\n",
    "\n",
    "    columns_to_show = [\n",
    "        'IMDB Title',\n",
    "        'Release Year', \n",
    "        'averageRating',\n",
    "        'numVotes',\n",
    "        'plot',\n",
    "        'genres',\n",
    "        'country',\n",
    "        'Similarity Score'\n",
    "    ]\n",
    "    \n",
    "    # First, filter out any titles that have different Genre Group\n",
    "    # if use_genre is set to True\n",
    "    if use_genre:\n",
    "        recommended = imdb[imdb['Genre Group']==input_title['Genre Group'].item()]\n",
    "    else:\n",
    "        recommended = imdb.copy()\n",
    "        \n",
    "    # Second, filter out the data identical to input_title\n",
    "    # so that there is no same movie in the recommended titles\n",
    "    recommended = recommended[recommended['IMDB Title']!=input_title['IMDB Title'].item()]\n",
    "    \n",
    "    # Third, also filter out titles that may already exist in Netflix dataset\n",
    "    # since we don't want to recommend what they already have\n",
    "    recommended = recommended[~recommended['IMDB Title'].isin(match_list['IMDB Title'])]\n",
    "    \n",
    "    # Append the ipnut data at the top of the recommended list so that easier to compute the similarity\n",
    "    # and reset indices\n",
    "    recommended = pd.concat([input_title, recommended], ignore_index=True)\n",
    "    recommended.reset_index(drop=True, inplace=True)\n",
    "\n",
    "    semantics = recommended.iloc[:, -768:]\n",
    "    similarity = cosine_similarity(semantics, semantics)\n",
    "    # The first row contains similarity score between input title and other recomemnded titles. The first elem with score of 1 is the input which is why the score 1 (or 100%)\n",
    "    similarity = similarity[0]\n",
    "    \n",
    "    recommended['Similarity Score'] = similarity\n",
    "    \n",
    "    # Drop semantics from the recommended since the score is already computed\n",
    "    recommended.drop(columns=imdb.columns[imdb.columns.str.contains('Semantic')].tolist(), inplace=True)\n",
    "    \n",
    "    recommended = recommended.sort_values('Similarity Score', ascending=False)\n",
    "    \n",
    "    # Drop the first row since it's the input title\n",
    "    recommended = recommended.iloc[1:].reset_index(drop=True)\n",
    "    recommended = recommended[columns_to_show]\n",
    "    recommended = recommended.iloc[:top_k]\n",
    "    \n",
    "    print('The original title information')\n",
    "    \n",
    "    # input_title = input_title.to_frame().transpose()\n",
    "    input_title.drop(columns=input_title.columns[input_title.columns.str.contains('Semantic')].tolist(), inplace=True)\n",
    "    input_title = input_title[columns_to_show[:-1]]\n",
    "    \n",
    "    display(input_title)\n",
    "    \n",
    "    print()\n",
    "    \n",
    "    display(recommended)\n",
    "    \n",
    "    return recommended"
   ]
  },
  {
   "cell_type": "markdown",
   "id": "105503a8-fde6-424b-a8d7-cc4be3434a83",
   "metadata": {},
   "source": [
    "As an example, Fast & Furious movie will be used as an input"
   ]
  },
  {
   "cell_type": "code",
   "execution_count": 141,
   "id": "94c0a4a6-70a2-431f-be2e-d3142768a56a",
   "metadata": {},
   "outputs": [
    {
     "data": {
      "text/html": [
       "<div>\n",
       "<style scoped>\n",
       "    .dataframe tbody tr th:only-of-type {\n",
       "        vertical-align: middle;\n",
       "    }\n",
       "\n",
       "    .dataframe tbody tr th {\n",
       "        vertical-align: top;\n",
       "    }\n",
       "\n",
       "    .dataframe thead th {\n",
       "        text-align: right;\n",
       "    }\n",
       "</style>\n",
       "<table border=\"1\" class=\"dataframe\">\n",
       "  <thead>\n",
       "    <tr style=\"text-align: right;\">\n",
       "      <th></th>\n",
       "      <th>IMDB ID</th>\n",
       "      <th>titleType</th>\n",
       "      <th>IMDB Title</th>\n",
       "      <th>originalTitle</th>\n",
       "      <th>isAdult</th>\n",
       "      <th>Release Year</th>\n",
       "      <th>runtimeMinutes</th>\n",
       "      <th>genres</th>\n",
       "      <th>averageRating</th>\n",
       "      <th>numVotes</th>\n",
       "      <th>...</th>\n",
       "      <th>Semantic 759</th>\n",
       "      <th>Semantic 760</th>\n",
       "      <th>Semantic 761</th>\n",
       "      <th>Semantic 762</th>\n",
       "      <th>Semantic 763</th>\n",
       "      <th>Semantic 764</th>\n",
       "      <th>Semantic 765</th>\n",
       "      <th>Semantic 766</th>\n",
       "      <th>Semantic 767</th>\n",
       "      <th>Semantic 768</th>\n",
       "    </tr>\n",
       "  </thead>\n",
       "  <tbody>\n",
       "    <tr>\n",
       "      <th>28036</th>\n",
       "      <td>tt1013752</td>\n",
       "      <td>movie</td>\n",
       "      <td>Fast &amp; Furious</td>\n",
       "      <td>Fast &amp; Furious</td>\n",
       "      <td>0</td>\n",
       "      <td>2009</td>\n",
       "      <td>107</td>\n",
       "      <td>Action,Thriller</td>\n",
       "      <td>6.6</td>\n",
       "      <td>264960</td>\n",
       "      <td>...</td>\n",
       "      <td>-0.583039</td>\n",
       "      <td>-0.363652</td>\n",
       "      <td>-0.208181</td>\n",
       "      <td>-0.398622</td>\n",
       "      <td>-0.009654</td>\n",
       "      <td>0.449042</td>\n",
       "      <td>-0.085996</td>\n",
       "      <td>-0.281167</td>\n",
       "      <td>0.036825</td>\n",
       "      <td>-0.253933</td>\n",
       "    </tr>\n",
       "  </tbody>\n",
       "</table>\n",
       "<p>1 rows × 783 columns</p>\n",
       "</div>"
      ],
      "text/plain": [
       "         IMDB ID titleType      IMDB Title   originalTitle  isAdult  \\\n",
       "28036  tt1013752     movie  Fast & Furious  Fast & Furious        0   \n",
       "\n",
       "       Release Year runtimeMinutes           genres  averageRating  numVotes  \\\n",
       "28036          2009            107  Action,Thriller            6.6    264960   \n",
       "\n",
       "       ...  Semantic 759 Semantic 760 Semantic 761 Semantic 762  Semantic 763  \\\n",
       "28036  ...     -0.583039    -0.363652    -0.208181    -0.398622     -0.009654   \n",
       "\n",
       "       Semantic 764  Semantic 765  Semantic 766  Semantic 767  Semantic 768  \n",
       "28036      0.449042     -0.085996     -0.281167      0.036825     -0.253933  \n",
       "\n",
       "[1 rows x 783 columns]"
      ]
     },
     "execution_count": 141,
     "metadata": {},
     "output_type": "execute_result"
    }
   ],
   "source": [
    "imdb[imdb['IMDB Title'].str.contains('Fast &')]"
   ]
  },
  {
   "cell_type": "markdown",
   "id": "8838ec8e-4c64-4821-b738-0d98b998d768",
   "metadata": {},
   "source": [
    "One can specify if one wants to use genre as a feature to recommend titles or not. Two cells below show different list of titles with and without genres"
   ]
  },
  {
   "cell_type": "code",
   "execution_count": null,
   "id": "3cdb201a-f2f6-4901-91eb-07e00414c358",
   "metadata": {
    "tags": []
   },
   "outputs": [],
   "source": [
    "recommended = get_recommendation('Fast & Furious', top_k=15, use_genre=False)\n",
    "recommended.to_csv('Recommended_titles_without_genres.csv', index=False)"
   ]
  },
  {
   "cell_type": "code",
   "execution_count": null,
   "id": "ee251a26-3590-4562-988e-4cb105dfd808",
   "metadata": {},
   "outputs": [],
   "source": [
    "recommended = get_recommendation('Fast & Furious', top_k=15)\n",
    "recommended.to_csv('Recommended_titles_with_genres.csv', index=False)"
   ]
  },
  {
   "cell_type": "markdown",
   "id": "58e2cffd-624b-47e2-9e23-357547684394",
   "metadata": {},
   "source": [
    "As you can see here, there is only one Fast & Furious. It's possible that if there are other series'ed Fast & Furious, the model could have other Fast & Furious series as one of recommended titles"
   ]
  }
 ],
 "metadata": {
  "kernelspec": {
   "display_name": "Python 3 (ipykernel)",
   "language": "python",
   "name": "python3"
  },
  "language_info": {
   "codemirror_mode": {
    "name": "ipython",
    "version": 3
   },
   "file_extension": ".py",
   "mimetype": "text/x-python",
   "name": "python",
   "nbconvert_exporter": "python",
   "pygments_lexer": "ipython3",
   "version": "3.9.6"
  }
 },
 "nbformat": 4,
 "nbformat_minor": 5
}
