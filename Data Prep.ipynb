{
 "cells": [
  {
   "cell_type": "code",
   "execution_count": 1,
   "metadata": {},
   "outputs": [],
   "source": [
    "# Dependency errors in Sagemaker. Re-install\n",
    "# !pip install boto3==1.17.106 s3fs pandas==1.3.5\n",
    "# !pip3 install numpy --upgrade"
   ]
  },
  {
   "cell_type": "code",
   "execution_count": 2,
   "metadata": {},
   "outputs": [],
   "source": [
    "import pandas as pd\n",
    "import numpy as np\n",
    "import matplotlib.pyplot as plt\n",
    "\n",
    "import boto3\n",
    "\n",
    "import warnings\n",
    "\n",
    "warnings.filterwarnings('ignore')\n",
    "\n",
    "pd.set_option(\"display.max_columns\", 50)"
   ]
  },
  {
   "cell_type": "markdown",
   "metadata": {},
   "source": [
    "## Data Loading"
   ]
  },
  {
   "cell_type": "code",
   "execution_count": 3,
   "metadata": {},
   "outputs": [],
   "source": [
    "bucket = 's3://ads508-imdb-data'\n",
    "\n",
    "names = pd.read_csv(f'{bucket}/ImdbName.csv', low_memory=False)\n",
    "akas = pd.read_csv(f'{bucket}/ImdbTitleAkas.csv', low_memory=False)\n",
    "titles = pd.read_csv(f'{bucket}/ImdbTitleBasics.csv', low_memory=False)\n",
    "crew = pd.read_csv(f'{bucket}/ImdbTitleCrew.csv', low_memory=False)\n",
    "episode = pd.read_csv(f'{bucket}/ImdbTitleEpisode.csv', low_memory=False)\n",
    "principals = pd.read_csv(f'{bucket}/ImdbTitlePrincipals.csv', low_memory=False)\n",
    "ratings = pd.read_csv(f'{bucket}/ImdbTitleRatings.csv', low_memory=False)\n",
    "plots = pd.read_csv(f'{bucket}/movies_plots.csv', low_memory=False)\n",
    "netflix = pd.read_csv(f'{bucket}/NetFlix.csv', low_memory=False)"
   ]
  },
  {
   "cell_type": "code",
   "execution_count": 4,
   "metadata": {},
   "outputs": [
    {
     "data": {
      "text/plain": [
       "((1048575, 6),\n",
       " (1048575, 8),\n",
       " (1048575, 9),\n",
       " (1048575, 3),\n",
       " (5652641, 4),\n",
       " (1048575, 6),\n",
       " (1048575, 3),\n",
       " (46014, 21),\n",
       " (7787, 12))"
      ]
     },
     "execution_count": 4,
     "metadata": {},
     "output_type": "execute_result"
    }
   ],
   "source": [
    "names.shape, akas.shape, titles.shape, crew.shape, episode.shape, principals.shape, ratings.shape, plots.shape, netflix.shape"
   ]
  },
  {
   "cell_type": "markdown",
   "metadata": {},
   "source": [
    "#### NOTES\n",
    "\n",
    "1. The **plots** dataframe contains additional features such as plot and awards\n",
    "\n",
    "\n",
    "#### TODO (as we progress)\n",
    "\n",
    "0. Fix encoding issue where some characters in dataframes such as director in **plots** are shown weirdly\n",
    "\n",
    "1. Because we don't want to recommend movies that Netflix already has, we have to check if what we have appear in their dataset. However, because there is no direct mapping (no IMDB ID in Netflix and vice versa), we will have to use fuzzy matching algorithm to get the confidence level on how two movies from Netflix and IMDB are similar to one another\n",
    "\n",
    "2. Convert \\N values in dataframes (such as **titles**) to either empty string or np.nan (float value) and create histogram\n",
    "\n",
    "3. Normalize/Standardize any numeric features, if they are heavily skewed\n",
    "\n",
    "4. Decide what to do on outliers. Remove or keep (sometimes keeping can help)\n",
    "\n",
    "5. Split **country** column in **plots** separated by comma and convert it into numeric features instead (One-Hot-Encoding)"
   ]
  },
  {
   "cell_type": "markdown",
   "metadata": {},
   "source": [
    "## Data Exploration"
   ]
  },
  {
   "cell_type": "markdown",
   "metadata": {},
   "source": [
    "### Definition of any helper functions"
   ]
  },
  {
   "cell_type": "code",
   "execution_count": 5,
   "metadata": {},
   "outputs": [],
   "source": [
    "# Helper function for plotting values counts\n",
    "\n",
    "def count_plot(df, col, figsize=(8, 6), n_top=10):\n",
    "    \n",
    "    plt.figure(figsize=figsize)\n",
    "    # Only show n_top number of top features\n",
    "    df[col].value_counts()[:n_top].plot(kind='barh')"
   ]
  },
  {
   "cell_type": "markdown",
   "metadata": {},
   "source": [
    "### Main Table"
   ]
  },
  {
   "cell_type": "code",
   "execution_count": 6,
   "metadata": {},
   "outputs": [
    {
     "data": {
      "text/html": [
       "<div>\n",
       "<style scoped>\n",
       "    .dataframe tbody tr th:only-of-type {\n",
       "        vertical-align: middle;\n",
       "    }\n",
       "\n",
       "    .dataframe tbody tr th {\n",
       "        vertical-align: top;\n",
       "    }\n",
       "\n",
       "    .dataframe thead th {\n",
       "        text-align: right;\n",
       "    }\n",
       "</style>\n",
       "<table border=\"1\" class=\"dataframe\">\n",
       "  <thead>\n",
       "    <tr style=\"text-align: right;\">\n",
       "      <th></th>\n",
       "      <th>tconst</th>\n",
       "      <th>titleType</th>\n",
       "      <th>primaryTitle</th>\n",
       "      <th>originalTitle</th>\n",
       "      <th>isAdult</th>\n",
       "      <th>startYear</th>\n",
       "      <th>endYear</th>\n",
       "      <th>runtimeMinutes</th>\n",
       "      <th>genres</th>\n",
       "    </tr>\n",
       "  </thead>\n",
       "  <tbody>\n",
       "    <tr>\n",
       "      <th>0</th>\n",
       "      <td>tt0000001</td>\n",
       "      <td>short</td>\n",
       "      <td>Carmencita</td>\n",
       "      <td>Carmencita</td>\n",
       "      <td>0</td>\n",
       "      <td>1894</td>\n",
       "      <td>\\N</td>\n",
       "      <td>1</td>\n",
       "      <td>Documentary,Short</td>\n",
       "    </tr>\n",
       "    <tr>\n",
       "      <th>1</th>\n",
       "      <td>tt0000002</td>\n",
       "      <td>short</td>\n",
       "      <td>Le clown et ses chiens</td>\n",
       "      <td>Le clown et ses chiens</td>\n",
       "      <td>0</td>\n",
       "      <td>1892</td>\n",
       "      <td>\\N</td>\n",
       "      <td>5</td>\n",
       "      <td>Animation,Short</td>\n",
       "    </tr>\n",
       "    <tr>\n",
       "      <th>2</th>\n",
       "      <td>tt0000003</td>\n",
       "      <td>short</td>\n",
       "      <td>Pauvre Pierrot</td>\n",
       "      <td>Pauvre Pierrot</td>\n",
       "      <td>0</td>\n",
       "      <td>1892</td>\n",
       "      <td>\\N</td>\n",
       "      <td>4</td>\n",
       "      <td>Animation,Comedy,Romance</td>\n",
       "    </tr>\n",
       "    <tr>\n",
       "      <th>3</th>\n",
       "      <td>tt0000004</td>\n",
       "      <td>short</td>\n",
       "      <td>Un bon bock</td>\n",
       "      <td>Un bon bock</td>\n",
       "      <td>0</td>\n",
       "      <td>1892</td>\n",
       "      <td>\\N</td>\n",
       "      <td>12</td>\n",
       "      <td>Animation,Short</td>\n",
       "    </tr>\n",
       "    <tr>\n",
       "      <th>4</th>\n",
       "      <td>tt0000005</td>\n",
       "      <td>short</td>\n",
       "      <td>Blacksmith Scene</td>\n",
       "      <td>Blacksmith Scene</td>\n",
       "      <td>0</td>\n",
       "      <td>1893</td>\n",
       "      <td>\\N</td>\n",
       "      <td>1</td>\n",
       "      <td>Comedy,Short</td>\n",
       "    </tr>\n",
       "  </tbody>\n",
       "</table>\n",
       "</div>"
      ],
      "text/plain": [
       "      tconst titleType            primaryTitle           originalTitle  \\\n",
       "0  tt0000001     short              Carmencita              Carmencita   \n",
       "1  tt0000002     short  Le clown et ses chiens  Le clown et ses chiens   \n",
       "2  tt0000003     short          Pauvre Pierrot          Pauvre Pierrot   \n",
       "3  tt0000004     short             Un bon bock             Un bon bock   \n",
       "4  tt0000005     short        Blacksmith Scene        Blacksmith Scene   \n",
       "\n",
       "   isAdult startYear endYear runtimeMinutes                    genres  \n",
       "0        0      1894      \\N              1         Documentary,Short  \n",
       "1        0      1892      \\N              5           Animation,Short  \n",
       "2        0      1892      \\N              4  Animation,Comedy,Romance  \n",
       "3        0      1892      \\N             12           Animation,Short  \n",
       "4        0      1893      \\N              1              Comedy,Short  "
      ]
     },
     "execution_count": 6,
     "metadata": {},
     "output_type": "execute_result"
    }
   ],
   "source": [
    "titles.head()"
   ]
  },
  {
   "cell_type": "code",
   "execution_count": 7,
   "metadata": {},
   "outputs": [
    {
     "name": "stdout",
     "output_type": "stream",
     "text": [
      "<class 'pandas.core.frame.DataFrame'>\n",
      "RangeIndex: 1048575 entries, 0 to 1048574\n",
      "Data columns (total 9 columns):\n",
      " #   Column          Non-Null Count    Dtype \n",
      "---  ------          --------------    ----- \n",
      " 0   tconst          1048575 non-null  object\n",
      " 1   titleType       1048575 non-null  object\n",
      " 2   primaryTitle    1048575 non-null  object\n",
      " 3   originalTitle   1048575 non-null  object\n",
      " 4   isAdult         1048575 non-null  int64 \n",
      " 5   startYear       1048575 non-null  object\n",
      " 6   endYear         1048575 non-null  object\n",
      " 7   runtimeMinutes  1048575 non-null  object\n",
      " 8   genres          1048575 non-null  object\n",
      "dtypes: int64(1), object(8)\n",
      "memory usage: 72.0+ MB\n"
     ]
    }
   ],
   "source": [
    "titles.info()"
   ]
  },
  {
   "cell_type": "code",
   "execution_count": 8,
   "metadata": {},
   "outputs": [
    {
     "data": {
      "image/png": "[encoded data removed]",
      "text/plain": [
       "<Figure size 576x432 with 1 Axes>"
      ]
     },
     "metadata": {
      "needs_background": "light"
     },
     "output_type": "display_data"
    }
   ],
   "source": [
    "count_plot(titles, 'titleType')"
   ]
  },
  {
   "cell_type": "code",
   "execution_count": 9,
   "metadata": {},
   "outputs": [
    {
     "name": "stdout",
     "output_type": "stream",
     "text": [
      "Total of 1731 number of distinct genres combination\n"
     ]
    }
   ],
   "source": [
    "print('Total of {} number of distinct genres combination'.format(titles['genres'].unique().shape[0]))"
   ]
  },
  {
   "cell_type": "code",
   "execution_count": 10,
   "metadata": {},
   "outputs": [
    {
     "data": {
      "text/plain": [
       "2006    64078\n",
       "2005    61789\n",
       "2004    53015\n",
       "2003    43672\n",
       "2002    36430\n",
       "        ...  \n",
       "1890        3\n",
       "1893        2\n",
       "1888        2\n",
       "1889        1\n",
       "2023        1\n",
       "Name: startYear, Length: 137, dtype: int64"
      ]
     },
     "execution_count": 10,
     "metadata": {},
     "output_type": "execute_result"
    }
   ],
   "source": [
    "titles['startYear'].value_counts()"
   ]
  },
  {
   "cell_type": "code",
   "execution_count": 11,
   "metadata": {},
   "outputs": [
    {
     "data": {
      "text/html": [
       "<div>\n",
       "<style scoped>\n",
       "    .dataframe tbody tr th:only-of-type {\n",
       "        vertical-align: middle;\n",
       "    }\n",
       "\n",
       "    .dataframe tbody tr th {\n",
       "        vertical-align: top;\n",
       "    }\n",
       "\n",
       "    .dataframe thead th {\n",
       "        text-align: right;\n",
       "    }\n",
       "</style>\n",
       "<table border=\"1\" class=\"dataframe\">\n",
       "  <thead>\n",
       "    <tr style=\"text-align: right;\">\n",
       "      <th></th>\n",
       "      <th>tconst</th>\n",
       "      <th>titleType</th>\n",
       "      <th>primaryTitle</th>\n",
       "      <th>originalTitle</th>\n",
       "      <th>isAdult</th>\n",
       "      <th>startYear</th>\n",
       "      <th>endYear</th>\n",
       "      <th>runtimeMinutes</th>\n",
       "      <th>genres</th>\n",
       "    </tr>\n",
       "  </thead>\n",
       "  <tbody>\n",
       "    <tr>\n",
       "      <th>987260</th>\n",
       "      <td>tt10032644</td>\n",
       "      <td>movie</td>\n",
       "      <td>The Urn</td>\n",
       "      <td>The Urn</td>\n",
       "      <td>0</td>\n",
       "      <td>2023</td>\n",
       "      <td>\\N</td>\n",
       "      <td>\\N</td>\n",
       "      <td>Thriller</td>\n",
       "    </tr>\n",
       "  </tbody>\n",
       "</table>\n",
       "</div>"
      ],
      "text/plain": [
       "            tconst titleType primaryTitle originalTitle  isAdult startYear  \\\n",
       "987260  tt10032644     movie      The Urn       The Urn        0      2023   \n",
       "\n",
       "       endYear runtimeMinutes    genres  \n",
       "987260      \\N             \\N  Thriller  "
      ]
     },
     "execution_count": 11,
     "metadata": {},
     "output_type": "execute_result"
    }
   ],
   "source": [
    "titles[titles['startYear']=='2023']"
   ]
  },
  {
   "cell_type": "code",
   "execution_count": 12,
   "metadata": {},
   "outputs": [
    {
     "data": {
      "text/plain": [
       "\\N      1030298\n",
       "2004        774\n",
       "2005        768\n",
       "2003        689\n",
       "2001        663\n",
       "         ...   \n",
       "1945          1\n",
       "2022          1\n",
       "1938          1\n",
       "1942          1\n",
       "1933          1\n",
       "Name: endYear, Length: 81, dtype: int64"
      ]
     },
     "execution_count": 12,
     "metadata": {},
     "output_type": "execute_result"
    }
   ],
   "source": [
    "titles['endYear'].value_counts()"
   ]
  },
  {
   "cell_type": "code",
   "execution_count": 13,
   "metadata": {},
   "outputs": [
    {
     "data": {
      "text/html": [
       "<div>\n",
       "<style scoped>\n",
       "    .dataframe tbody tr th:only-of-type {\n",
       "        vertical-align: middle;\n",
       "    }\n",
       "\n",
       "    .dataframe tbody tr th {\n",
       "        vertical-align: top;\n",
       "    }\n",
       "\n",
       "    .dataframe thead th {\n",
       "        text-align: right;\n",
       "    }\n",
       "</style>\n",
       "<table border=\"1\" class=\"dataframe\">\n",
       "  <thead>\n",
       "    <tr style=\"text-align: right;\">\n",
       "      <th></th>\n",
       "      <th>tconst</th>\n",
       "      <th>titleType</th>\n",
       "      <th>primaryTitle</th>\n",
       "      <th>originalTitle</th>\n",
       "      <th>isAdult</th>\n",
       "      <th>startYear</th>\n",
       "      <th>endYear</th>\n",
       "      <th>runtimeMinutes</th>\n",
       "      <th>genres</th>\n",
       "    </tr>\n",
       "  </thead>\n",
       "  <tbody>\n",
       "    <tr>\n",
       "      <th>362034</th>\n",
       "      <td>tt0377269</td>\n",
       "      <td>tvSeries</td>\n",
       "      <td>The Television Ghost</td>\n",
       "      <td>The Television Ghost</td>\n",
       "      <td>0</td>\n",
       "      <td>1931</td>\n",
       "      <td>1933</td>\n",
       "      <td>15</td>\n",
       "      <td>Drama</td>\n",
       "    </tr>\n",
       "  </tbody>\n",
       "</table>\n",
       "</div>"
      ],
      "text/plain": [
       "           tconst titleType          primaryTitle         originalTitle  \\\n",
       "362034  tt0377269  tvSeries  The Television Ghost  The Television Ghost   \n",
       "\n",
       "        isAdult startYear endYear runtimeMinutes genres  \n",
       "362034        0      1931    1933             15  Drama  "
      ]
     },
     "execution_count": 13,
     "metadata": {},
     "output_type": "execute_result"
    }
   ],
   "source": [
    "titles[titles['endYear']=='1933']"
   ]
  },
  {
   "cell_type": "code",
   "execution_count": 15,
   "metadata": {},
   "outputs": [
    {
     "data": {
      "text/html": [
       "<div>\n",
       "<style scoped>\n",
       "    .dataframe tbody tr th:only-of-type {\n",
       "        vertical-align: middle;\n",
       "    }\n",
       "\n",
       "    .dataframe tbody tr th {\n",
       "        vertical-align: top;\n",
       "    }\n",
       "\n",
       "    .dataframe thead th {\n",
       "        text-align: right;\n",
       "    }\n",
       "</style>\n",
       "<table border=\"1\" class=\"dataframe\">\n",
       "  <thead>\n",
       "    <tr style=\"text-align: right;\">\n",
       "      <th></th>\n",
       "      <th>tconst</th>\n",
       "      <th>titleType</th>\n",
       "      <th>primaryTitle</th>\n",
       "      <th>originalTitle</th>\n",
       "      <th>isAdult</th>\n",
       "      <th>startYear</th>\n",
       "      <th>endYear</th>\n",
       "      <th>runtimeMinutes</th>\n",
       "      <th>genres</th>\n",
       "    </tr>\n",
       "  </thead>\n",
       "  <tbody>\n",
       "    <tr>\n",
       "      <th>18</th>\n",
       "      <td>tt0000019</td>\n",
       "      <td>short</td>\n",
       "      <td>The Clown Barber</td>\n",
       "      <td>The Clown Barber</td>\n",
       "      <td>0</td>\n",
       "      <td>1898</td>\n",
       "      <td>\\N</td>\n",
       "      <td>\\N</td>\n",
       "      <td>Comedy,Short</td>\n",
       "    </tr>\n",
       "    <tr>\n",
       "      <th>22</th>\n",
       "      <td>tt0000024</td>\n",
       "      <td>short</td>\n",
       "      <td>Opening of the Kiel Canal</td>\n",
       "      <td>Opening of the Kiel Canal</td>\n",
       "      <td>0</td>\n",
       "      <td>1895</td>\n",
       "      <td>\\N</td>\n",
       "      <td>\\N</td>\n",
       "      <td>News,Short</td>\n",
       "    </tr>\n",
       "    <tr>\n",
       "      <th>23</th>\n",
       "      <td>tt0000025</td>\n",
       "      <td>short</td>\n",
       "      <td>The Oxford and Cambridge University Boat Race</td>\n",
       "      <td>The Oxford and Cambridge University Boat Race</td>\n",
       "      <td>0</td>\n",
       "      <td>1895</td>\n",
       "      <td>\\N</td>\n",
       "      <td>\\N</td>\n",
       "      <td>News,Short,Sport</td>\n",
       "    </tr>\n",
       "    <tr>\n",
       "      <th>36</th>\n",
       "      <td>tt0000038</td>\n",
       "      <td>short</td>\n",
       "      <td>The Ball Game</td>\n",
       "      <td>The Ball Game</td>\n",
       "      <td>0</td>\n",
       "      <td>1898</td>\n",
       "      <td>\\N</td>\n",
       "      <td>\\N</td>\n",
       "      <td>Documentary,Short,Sport</td>\n",
       "    </tr>\n",
       "    <tr>\n",
       "      <th>37</th>\n",
       "      <td>tt0000039</td>\n",
       "      <td>short</td>\n",
       "      <td>Barnet Horse Fair</td>\n",
       "      <td>Barnet Horse Fair</td>\n",
       "      <td>0</td>\n",
       "      <td>1896</td>\n",
       "      <td>\\N</td>\n",
       "      <td>\\N</td>\n",
       "      <td>Short</td>\n",
       "    </tr>\n",
       "    <tr>\n",
       "      <th>...</th>\n",
       "      <td>...</td>\n",
       "      <td>...</td>\n",
       "      <td>...</td>\n",
       "      <td>...</td>\n",
       "      <td>...</td>\n",
       "      <td>...</td>\n",
       "      <td>...</td>\n",
       "      <td>...</td>\n",
       "      <td>...</td>\n",
       "    </tr>\n",
       "    <tr>\n",
       "      <th>1048566</th>\n",
       "      <td>tt10140360</td>\n",
       "      <td>movie</td>\n",
       "      <td>Another Night in China</td>\n",
       "      <td>Another Night in China</td>\n",
       "      <td>1</td>\n",
       "      <td>2009</td>\n",
       "      <td>\\N</td>\n",
       "      <td>\\N</td>\n",
       "      <td>Adult</td>\n",
       "    </tr>\n",
       "    <tr>\n",
       "      <th>1048569</th>\n",
       "      <td>tt10140370</td>\n",
       "      <td>tvEpisode</td>\n",
       "      <td>Sarah Clifford</td>\n",
       "      <td>Sarah Clifford</td>\n",
       "      <td>0</td>\n",
       "      <td>2019</td>\n",
       "      <td>\\N</td>\n",
       "      <td>\\N</td>\n",
       "      <td>Talk-Show</td>\n",
       "    </tr>\n",
       "    <tr>\n",
       "      <th>1048571</th>\n",
       "      <td>tt10140378</td>\n",
       "      <td>tvEpisode</td>\n",
       "      <td>Corey Hart</td>\n",
       "      <td>Corey Hart</td>\n",
       "      <td>0</td>\n",
       "      <td>2019</td>\n",
       "      <td>\\N</td>\n",
       "      <td>\\N</td>\n",
       "      <td>Talk-Show</td>\n",
       "    </tr>\n",
       "    <tr>\n",
       "      <th>1048573</th>\n",
       "      <td>tt10140380</td>\n",
       "      <td>short</td>\n",
       "      <td>Fear of Dogs</td>\n",
       "      <td>Fear of Dogs</td>\n",
       "      <td>0</td>\n",
       "      <td>1994</td>\n",
       "      <td>\\N</td>\n",
       "      <td>\\N</td>\n",
       "      <td>Drama,Short</td>\n",
       "    </tr>\n",
       "    <tr>\n",
       "      <th>1048574</th>\n",
       "      <td>tt10140382</td>\n",
       "      <td>tvEpisode</td>\n",
       "      <td>Wondercon Anaheim 2019 (Highlights)</td>\n",
       "      <td>Wondercon Anaheim 2019 (Highlights)</td>\n",
       "      <td>0</td>\n",
       "      <td>2019</td>\n",
       "      <td>\\N</td>\n",
       "      <td>\\N</td>\n",
       "      <td>Music</td>\n",
       "    </tr>\n",
       "  </tbody>\n",
       "</table>\n",
       "<p>513537 rows × 9 columns</p>\n",
       "</div>"
      ],
      "text/plain": [
       "             tconst  titleType                                   primaryTitle  \\\n",
       "18        tt0000019      short                               The Clown Barber   \n",
       "22        tt0000024      short                      Opening of the Kiel Canal   \n",
       "23        tt0000025      short  The Oxford and Cambridge University Boat Race   \n",
       "36        tt0000038      short                                  The Ball Game   \n",
       "37        tt0000039      short                              Barnet Horse Fair   \n",
       "...             ...        ...                                            ...   \n",
       "1048566  tt10140360      movie                         Another Night in China   \n",
       "1048569  tt10140370  tvEpisode                                 Sarah Clifford   \n",
       "1048571  tt10140378  tvEpisode                                     Corey Hart   \n",
       "1048573  tt10140380      short                                   Fear of Dogs   \n",
       "1048574  tt10140382  tvEpisode            Wondercon Anaheim 2019 (Highlights)   \n",
       "\n",
       "                                         originalTitle  isAdult startYear  \\\n",
       "18                                    The Clown Barber        0      1898   \n",
       "22                           Opening of the Kiel Canal        0      1895   \n",
       "23       The Oxford and Cambridge University Boat Race        0      1895   \n",
       "36                                       The Ball Game        0      1898   \n",
       "37                                   Barnet Horse Fair        0      1896   \n",
       "...                                                ...      ...       ...   \n",
       "1048566                         Another Night in China        1      2009   \n",
       "1048569                                 Sarah Clifford        0      2019   \n",
       "1048571                                     Corey Hart        0      2019   \n",
       "1048573                                   Fear of Dogs        0      1994   \n",
       "1048574            Wondercon Anaheim 2019 (Highlights)        0      2019   \n",
       "\n",
       "        endYear runtimeMinutes                   genres  \n",
       "18           \\N             \\N             Comedy,Short  \n",
       "22           \\N             \\N               News,Short  \n",
       "23           \\N             \\N         News,Short,Sport  \n",
       "36           \\N             \\N  Documentary,Short,Sport  \n",
       "37           \\N             \\N                    Short  \n",
       "...         ...            ...                      ...  \n",
       "1048566      \\N             \\N                    Adult  \n",
       "1048569      \\N             \\N                Talk-Show  \n",
       "1048571      \\N             \\N                Talk-Show  \n",
       "1048573      \\N             \\N              Drama,Short  \n",
       "1048574      \\N             \\N                    Music  \n",
       "\n",
       "[513537 rows x 9 columns]"
      ]
     },
     "execution_count": 15,
     "metadata": {},
     "output_type": "execute_result"
    }
   ],
   "source": [
    "titles[titles['runtimeMinutes']=='\\\\N'] # make sure to escape \\ by adding another \\"
   ]
  },
  {
   "cell_type": "markdown",
   "metadata": {},
   "source": [
    "In this table, \\N is treated as a null value so replace them for numeric values into nan"
   ]
  },
  {
   "cell_type": "code",
   "execution_count": 16,
   "metadata": {},
   "outputs": [
    {
     "data": {
      "text/plain": [
       "((513537, 9), (9010, 9), (1030298, 9))"
      ]
     },
     "execution_count": 16,
     "metadata": {},
     "output_type": "execute_result"
    }
   ],
   "source": [
    "titles[titles['runtimeMinutes']=='\\\\N'].shape, titles[titles['startYear']=='\\\\N'].shape, titles[titles['endYear']=='\\\\N'].shape"
   ]
  },
  {
   "cell_type": "code",
   "execution_count": 17,
   "metadata": {},
   "outputs": [
    {
     "data": {
      "text/plain": [
       "(0, 8400)"
      ]
     },
     "execution_count": 17,
     "metadata": {},
     "output_type": "execute_result"
    }
   ],
   "source": [
    "titles[titles['runtimeMinutes']!='\\\\N']['runtimeMinutes'].astype(int).min(), titles[titles['runtimeMinutes']!='\\\\N']['runtimeMinutes'].astype(int).max()"
   ]
  },
  {
   "cell_type": "code",
   "execution_count": 18,
   "metadata": {},
   "outputs": [
    {
     "name": "stdout",
     "output_type": "stream",
     "text": [
      "4.07% of whole movies are adult videos\n"
     ]
    }
   ],
   "source": [
    "print('{:.2f}% of whole movies are adult videos'.format(titles['isAdult'].sum() / titles.shape[0] * 100))"
   ]
  },
  {
   "cell_type": "markdown",
   "metadata": {},
   "source": [
    "---"
   ]
  },
  {
   "cell_type": "markdown",
   "metadata": {},
   "source": [
    "### Plots"
   ]
  },
  {
   "cell_type": "code",
   "execution_count": 19,
   "metadata": {},
   "outputs": [
    {
     "data": {
      "text/html": [
       "<div>\n",
       "<style scoped>\n",
       "    .dataframe tbody tr th:only-of-type {\n",
       "        vertical-align: middle;\n",
       "    }\n",
       "\n",
       "    .dataframe tbody tr th {\n",
       "        vertical-align: top;\n",
       "    }\n",
       "\n",
       "    .dataframe thead th {\n",
       "        text-align: right;\n",
       "    }\n",
       "</style>\n",
       "<table border=\"1\" class=\"dataframe\">\n",
       "  <thead>\n",
       "    <tr style=\"text-align: right;\">\n",
       "      <th></th>\n",
       "      <th>imdbID</th>\n",
       "      <th>title</th>\n",
       "      <th>year</th>\n",
       "      <th>rating</th>\n",
       "      <th>runtime</th>\n",
       "      <th>genre</th>\n",
       "      <th>released</th>\n",
       "      <th>director</th>\n",
       "      <th>writer</th>\n",
       "      <th>cast</th>\n",
       "      <th>metacritic</th>\n",
       "      <th>imdbRating</th>\n",
       "      <th>imdbVotes</th>\n",
       "      <th>poster</th>\n",
       "      <th>plot</th>\n",
       "      <th>fullplot</th>\n",
       "      <th>language</th>\n",
       "      <th>country</th>\n",
       "      <th>awards</th>\n",
       "      <th>lastupdated</th>\n",
       "      <th>type</th>\n",
       "    </tr>\n",
       "  </thead>\n",
       "  <tbody>\n",
       "    <tr>\n",
       "      <th>0</th>\n",
       "      <td>1</td>\n",
       "      <td>Carmencita</td>\n",
       "      <td>1894</td>\n",
       "      <td>NOT RATED</td>\n",
       "      <td>1 min</td>\n",
       "      <td>Documentary, Short</td>\n",
       "      <td>NaN</td>\n",
       "      <td>William K.L. Dickson</td>\n",
       "      <td>NaN</td>\n",
       "      <td>Carmencita</td>\n",
       "      <td>NaN</td>\n",
       "      <td>5.9</td>\n",
       "      <td>1032.0</td>\n",
       "      <td>https://m.media-amazon.com/images/M/MV5BMjAzND...</td>\n",
       "      <td>Performing on what looks like a small wooden s...</td>\n",
       "      <td>Performing on what looks like a small wooden s...</td>\n",
       "      <td>NaN</td>\n",
       "      <td>USA</td>\n",
       "      <td>NaN</td>\n",
       "      <td>2015-08-26 00:03:45.040000000</td>\n",
       "      <td>movie</td>\n",
       "    </tr>\n",
       "    <tr>\n",
       "      <th>1</th>\n",
       "      <td>5</td>\n",
       "      <td>Blacksmith Scene</td>\n",
       "      <td>1893</td>\n",
       "      <td>UNRATED</td>\n",
       "      <td>1 min</td>\n",
       "      <td>Short</td>\n",
       "      <td>1893-05-09</td>\n",
       "      <td>William K.L. Dickson</td>\n",
       "      <td>NaN</td>\n",
       "      <td>Charles Kayser, John Ott</td>\n",
       "      <td>NaN</td>\n",
       "      <td>6.2</td>\n",
       "      <td>1189.0</td>\n",
       "      <td>NaN</td>\n",
       "      <td>Three men hammer on an anvil and pass a bottle...</td>\n",
       "      <td>A stationary camera looks at a large anvil wit...</td>\n",
       "      <td>NaN</td>\n",
       "      <td>USA</td>\n",
       "      <td>1 win.</td>\n",
       "      <td>2015-08-26 00:03:50.133000000</td>\n",
       "      <td>movie</td>\n",
       "    </tr>\n",
       "    <tr>\n",
       "      <th>2</th>\n",
       "      <td>3</td>\n",
       "      <td>Pauvre Pierrot</td>\n",
       "      <td>1892</td>\n",
       "      <td>NaN</td>\n",
       "      <td>4 min</td>\n",
       "      <td>Animation, Comedy, Short</td>\n",
       "      <td>1892-10-28</td>\n",
       "      <td>�mile Reynaud</td>\n",
       "      <td>NaN</td>\n",
       "      <td>NaN</td>\n",
       "      <td>NaN</td>\n",
       "      <td>6.7</td>\n",
       "      <td>566.0</td>\n",
       "      <td>NaN</td>\n",
       "      <td>One night, Arlequin come to see his lover Colo...</td>\n",
       "      <td>One night, Arlequin come to see his lover Colo...</td>\n",
       "      <td>NaN</td>\n",
       "      <td>France</td>\n",
       "      <td>NaN</td>\n",
       "      <td>2015-08-12 00:06:02.720000000</td>\n",
       "      <td>movie</td>\n",
       "    </tr>\n",
       "    <tr>\n",
       "      <th>3</th>\n",
       "      <td>8</td>\n",
       "      <td>Edison Kinetoscopic Record of a Sneeze</td>\n",
       "      <td>1894</td>\n",
       "      <td>NaN</td>\n",
       "      <td>1 min</td>\n",
       "      <td>Documentary, Short</td>\n",
       "      <td>1894-01-09</td>\n",
       "      <td>William K.L. Dickson</td>\n",
       "      <td>NaN</td>\n",
       "      <td>Fred Ott</td>\n",
       "      <td>NaN</td>\n",
       "      <td>5.9</td>\n",
       "      <td>988.0</td>\n",
       "      <td>NaN</td>\n",
       "      <td>A man (Thomas Edison's assistant) takes a pinc...</td>\n",
       "      <td>A man (Edison's assistant) takes a pinch of sn...</td>\n",
       "      <td>NaN</td>\n",
       "      <td>USA</td>\n",
       "      <td>NaN</td>\n",
       "      <td>2015-08-10 00:21:07.127000000</td>\n",
       "      <td>movie</td>\n",
       "    </tr>\n",
       "    <tr>\n",
       "      <th>4</th>\n",
       "      <td>10</td>\n",
       "      <td>Employees Leaving the Lumi�re Factory</td>\n",
       "      <td>1895</td>\n",
       "      <td>NaN</td>\n",
       "      <td>1 min</td>\n",
       "      <td>Documentary, Short</td>\n",
       "      <td>1895-03-22</td>\n",
       "      <td>Louis Lumi�re</td>\n",
       "      <td>NaN</td>\n",
       "      <td>NaN</td>\n",
       "      <td>NaN</td>\n",
       "      <td>6.9</td>\n",
       "      <td>3469.0</td>\n",
       "      <td>NaN</td>\n",
       "      <td>A man opens the big gates to the Lumi�re facto...</td>\n",
       "      <td>A man opens the big gates to the Lumi�re facto...</td>\n",
       "      <td>NaN</td>\n",
       "      <td>France</td>\n",
       "      <td>NaN</td>\n",
       "      <td>2015-08-26 00:03:56.603000000</td>\n",
       "      <td>movie</td>\n",
       "    </tr>\n",
       "  </tbody>\n",
       "</table>\n",
       "</div>"
      ],
      "text/plain": [
       "   imdbID                                   title  year     rating runtime  \\\n",
       "0       1                              Carmencita  1894  NOT RATED   1 min   \n",
       "1       5                        Blacksmith Scene  1893    UNRATED   1 min   \n",
       "2       3                          Pauvre Pierrot  1892        NaN   4 min   \n",
       "3       8  Edison Kinetoscopic Record of a Sneeze  1894        NaN   1 min   \n",
       "4      10   Employees Leaving the Lumi�re Factory  1895        NaN   1 min   \n",
       "\n",
       "                      genre    released              director writer  \\\n",
       "0        Documentary, Short         NaN  William K.L. Dickson    NaN   \n",
       "1                     Short  1893-05-09  William K.L. Dickson    NaN   \n",
       "2  Animation, Comedy, Short  1892-10-28         �mile Reynaud    NaN   \n",
       "3        Documentary, Short  1894-01-09  William K.L. Dickson    NaN   \n",
       "4        Documentary, Short  1895-03-22         Louis Lumi�re    NaN   \n",
       "\n",
       "                       cast  metacritic  imdbRating  imdbVotes  \\\n",
       "0                Carmencita         NaN         5.9     1032.0   \n",
       "1  Charles Kayser, John Ott         NaN         6.2     1189.0   \n",
       "2                       NaN         NaN         6.7      566.0   \n",
       "3                  Fred Ott         NaN         5.9      988.0   \n",
       "4                       NaN         NaN         6.9     3469.0   \n",
       "\n",
       "                                              poster  \\\n",
       "0  https://m.media-amazon.com/images/M/MV5BMjAzND...   \n",
       "1                                                NaN   \n",
       "2                                                NaN   \n",
       "3                                                NaN   \n",
       "4                                                NaN   \n",
       "\n",
       "                                                plot  \\\n",
       "0  Performing on what looks like a small wooden s...   \n",
       "1  Three men hammer on an anvil and pass a bottle...   \n",
       "2  One night, Arlequin come to see his lover Colo...   \n",
       "3  A man (Thomas Edison's assistant) takes a pinc...   \n",
       "4  A man opens the big gates to the Lumi�re facto...   \n",
       "\n",
       "                                            fullplot language country  awards  \\\n",
       "0  Performing on what looks like a small wooden s...      NaN     USA     NaN   \n",
       "1  A stationary camera looks at a large anvil wit...      NaN     USA  1 win.   \n",
       "2  One night, Arlequin come to see his lover Colo...      NaN  France     NaN   \n",
       "3  A man (Edison's assistant) takes a pinch of sn...      NaN     USA     NaN   \n",
       "4  A man opens the big gates to the Lumi�re facto...      NaN  France     NaN   \n",
       "\n",
       "                     lastupdated   type  \n",
       "0  2015-08-26 00:03:45.040000000  movie  \n",
       "1  2015-08-26 00:03:50.133000000  movie  \n",
       "2  2015-08-12 00:06:02.720000000  movie  \n",
       "3  2015-08-10 00:21:07.127000000  movie  \n",
       "4  2015-08-26 00:03:56.603000000  movie  "
      ]
     },
     "execution_count": 19,
     "metadata": {},
     "output_type": "execute_result"
    }
   ],
   "source": [
    "plots.head()"
   ]
  },
  {
   "cell_type": "code",
   "execution_count": 20,
   "metadata": {},
   "outputs": [
    {
     "name": "stdout",
     "output_type": "stream",
     "text": [
      "<class 'pandas.core.frame.DataFrame'>\n",
      "RangeIndex: 46014 entries, 0 to 46013\n",
      "Data columns (total 21 columns):\n",
      " #   Column       Non-Null Count  Dtype  \n",
      "---  ------       --------------  -----  \n",
      " 0   imdbID       46014 non-null  int64  \n",
      " 1   title        46014 non-null  object \n",
      " 2   year         46014 non-null  object \n",
      " 3   rating       24629 non-null  object \n",
      " 4   runtime      43377 non-null  object \n",
      " 5   genre        45615 non-null  object \n",
      " 6   released     43002 non-null  object \n",
      " 7   director     45409 non-null  object \n",
      " 8   writer       42942 non-null  object \n",
      " 9   cast         44928 non-null  object \n",
      " 10  metacritic   9401 non-null   float64\n",
      " 11  imdbRating   44300 non-null  float64\n",
      " 12  imdbVotes    44299 non-null  float64\n",
      " 13  poster       35798 non-null  object \n",
      " 14  plot         42161 non-null  object \n",
      " 15  fullplot     41421 non-null  object \n",
      " 16  language     44899 non-null  object \n",
      " 17  country      45830 non-null  object \n",
      " 18  awards       23542 non-null  object \n",
      " 19  lastupdated  46014 non-null  object \n",
      " 20  type         45976 non-null  object \n",
      "dtypes: float64(3), int64(1), object(17)\n",
      "memory usage: 7.4+ MB\n"
     ]
    }
   ],
   "source": [
    "plots.info()"
   ]
  },
  {
   "cell_type": "markdown",
   "metadata": {},
   "source": [
    "Because we already have most of the columns, extract only the following selected columns to use"
   ]
  },
  {
   "cell_type": "code",
   "execution_count": 21,
   "metadata": {},
   "outputs": [],
   "source": [
    "cols_to_use = ['imdbID', 'plot', 'fullplot', 'awards', 'country']\n",
    "plots = plots[cols_to_use]"
   ]
  },
  {
   "cell_type": "code",
   "execution_count": 22,
   "metadata": {},
   "outputs": [
    {
     "data": {
      "text/html": [
       "<div>\n",
       "<style scoped>\n",
       "    .dataframe tbody tr th:only-of-type {\n",
       "        vertical-align: middle;\n",
       "    }\n",
       "\n",
       "    .dataframe tbody tr th {\n",
       "        vertical-align: top;\n",
       "    }\n",
       "\n",
       "    .dataframe thead th {\n",
       "        text-align: right;\n",
       "    }\n",
       "</style>\n",
       "<table border=\"1\" class=\"dataframe\">\n",
       "  <thead>\n",
       "    <tr style=\"text-align: right;\">\n",
       "      <th></th>\n",
       "      <th>imdbID</th>\n",
       "      <th>plot</th>\n",
       "      <th>fullplot</th>\n",
       "      <th>awards</th>\n",
       "      <th>country</th>\n",
       "    </tr>\n",
       "  </thead>\n",
       "  <tbody>\n",
       "    <tr>\n",
       "      <th>0</th>\n",
       "      <td>1</td>\n",
       "      <td>Performing on what looks like a small wooden s...</td>\n",
       "      <td>Performing on what looks like a small wooden s...</td>\n",
       "      <td>NaN</td>\n",
       "      <td>USA</td>\n",
       "    </tr>\n",
       "    <tr>\n",
       "      <th>1</th>\n",
       "      <td>5</td>\n",
       "      <td>Three men hammer on an anvil and pass a bottle...</td>\n",
       "      <td>A stationary camera looks at a large anvil wit...</td>\n",
       "      <td>1 win.</td>\n",
       "      <td>USA</td>\n",
       "    </tr>\n",
       "    <tr>\n",
       "      <th>2</th>\n",
       "      <td>3</td>\n",
       "      <td>One night, Arlequin come to see his lover Colo...</td>\n",
       "      <td>One night, Arlequin come to see his lover Colo...</td>\n",
       "      <td>NaN</td>\n",
       "      <td>France</td>\n",
       "    </tr>\n",
       "    <tr>\n",
       "      <th>3</th>\n",
       "      <td>8</td>\n",
       "      <td>A man (Thomas Edison's assistant) takes a pinc...</td>\n",
       "      <td>A man (Edison's assistant) takes a pinch of sn...</td>\n",
       "      <td>NaN</td>\n",
       "      <td>USA</td>\n",
       "    </tr>\n",
       "    <tr>\n",
       "      <th>4</th>\n",
       "      <td>10</td>\n",
       "      <td>A man opens the big gates to the Lumi�re facto...</td>\n",
       "      <td>A man opens the big gates to the Lumi�re facto...</td>\n",
       "      <td>NaN</td>\n",
       "      <td>France</td>\n",
       "    </tr>\n",
       "  </tbody>\n",
       "</table>\n",
       "</div>"
      ],
      "text/plain": [
       "   imdbID                                               plot  \\\n",
       "0       1  Performing on what looks like a small wooden s...   \n",
       "1       5  Three men hammer on an anvil and pass a bottle...   \n",
       "2       3  One night, Arlequin come to see his lover Colo...   \n",
       "3       8  A man (Thomas Edison's assistant) takes a pinc...   \n",
       "4      10  A man opens the big gates to the Lumi�re facto...   \n",
       "\n",
       "                                            fullplot  awards country  \n",
       "0  Performing on what looks like a small wooden s...     NaN     USA  \n",
       "1  A stationary camera looks at a large anvil wit...  1 win.     USA  \n",
       "2  One night, Arlequin come to see his lover Colo...     NaN  France  \n",
       "3  A man (Edison's assistant) takes a pinch of sn...     NaN     USA  \n",
       "4  A man opens the big gates to the Lumi�re facto...     NaN  France  "
      ]
     },
     "execution_count": 22,
     "metadata": {},
     "output_type": "execute_result"
    }
   ],
   "source": [
    "plots.head()"
   ]
  },
  {
   "cell_type": "code",
   "execution_count": 23,
   "metadata": {},
   "outputs": [
    {
     "data": {
      "image/png": "[encoded data removed]",
      "text/plain": [
       "<Figure size 576x432 with 1 Axes>"
      ]
     },
     "metadata": {
      "needs_background": "light"
     },
     "output_type": "display_data"
    }
   ],
   "source": [
    "count_plot(plots, 'country')"
   ]
  },
  {
   "cell_type": "markdown",
   "metadata": {},
   "source": [
    "We can see that there are movies having country of \"UK, USA\". "
   ]
  },
  {
   "cell_type": "code",
   "execution_count": 24,
   "metadata": {},
   "outputs": [
    {
     "data": {
      "text/html": [
       "<div>\n",
       "<style scoped>\n",
       "    .dataframe tbody tr th:only-of-type {\n",
       "        vertical-align: middle;\n",
       "    }\n",
       "\n",
       "    .dataframe tbody tr th {\n",
       "        vertical-align: top;\n",
       "    }\n",
       "\n",
       "    .dataframe thead th {\n",
       "        text-align: right;\n",
       "    }\n",
       "</style>\n",
       "<table border=\"1\" class=\"dataframe\">\n",
       "  <thead>\n",
       "    <tr style=\"text-align: right;\">\n",
       "      <th></th>\n",
       "      <th>imdbID</th>\n",
       "      <th>plot</th>\n",
       "      <th>fullplot</th>\n",
       "      <th>awards</th>\n",
       "      <th>country</th>\n",
       "    </tr>\n",
       "  </thead>\n",
       "  <tbody>\n",
       "    <tr>\n",
       "      <th>3126</th>\n",
       "      <td>40321</td>\n",
       "      <td>Uncle Rollo finally retires to the house he wa...</td>\n",
       "      <td>Uncle Rollo finally retires to the house he wa...</td>\n",
       "      <td>NaN</td>\n",
       "      <td>UK, USA</td>\n",
       "    </tr>\n",
       "    <tr>\n",
       "      <th>3129</th>\n",
       "      <td>40325</td>\n",
       "      <td>Matt Denant, ex-RAF flier, sentenced to three ...</td>\n",
       "      <td>NaN</td>\n",
       "      <td>NaN</td>\n",
       "      <td>UK, USA</td>\n",
       "    </tr>\n",
       "    <tr>\n",
       "      <th>3286</th>\n",
       "      <td>41329</td>\n",
       "      <td>Arnold Boult is determined to make his son a s...</td>\n",
       "      <td>Arnold Boult is determined to make his son a s...</td>\n",
       "      <td>Nominated for 1 Oscar. Another 1 nomination.</td>\n",
       "      <td>UK, USA</td>\n",
       "    </tr>\n",
       "    <tr>\n",
       "      <th>3517</th>\n",
       "      <td>42757</td>\n",
       "      <td>In 1875 London, young Wheeler (who lives by sc...</td>\n",
       "      <td>In 1875 London, young Wheeler (who lives by sc...</td>\n",
       "      <td>NaN</td>\n",
       "      <td>UK, USA</td>\n",
       "    </tr>\n",
       "    <tr>\n",
       "      <th>3576</th>\n",
       "      <td>43067</td>\n",
       "      <td>The treasure seeking adventures of young Jim H...</td>\n",
       "      <td>Enchanted by the idea of locating treasure bur...</td>\n",
       "      <td>1 nomination.</td>\n",
       "      <td>UK, USA</td>\n",
       "    </tr>\n",
       "    <tr>\n",
       "      <th>...</th>\n",
       "      <td>...</td>\n",
       "      <td>...</td>\n",
       "      <td>...</td>\n",
       "      <td>...</td>\n",
       "      <td>...</td>\n",
       "    </tr>\n",
       "    <tr>\n",
       "      <th>44355</th>\n",
       "      <td>3798628</td>\n",
       "      <td>Follows comedian/author/activist Russell Brand...</td>\n",
       "      <td>Follows comedian/author/activist Russell Brand...</td>\n",
       "      <td>1 win.</td>\n",
       "      <td>UK, USA</td>\n",
       "    </tr>\n",
       "    <tr>\n",
       "      <th>44505</th>\n",
       "      <td>3890160</td>\n",
       "      <td>After being coerced into working for a crime b...</td>\n",
       "      <td>After being coerced into working for a crime b...</td>\n",
       "      <td>NaN</td>\n",
       "      <td>UK, USA</td>\n",
       "    </tr>\n",
       "    <tr>\n",
       "      <th>44706</th>\n",
       "      <td>4008652</td>\n",
       "      <td>Unprecedented access to Muhammad Ali's persona...</td>\n",
       "      <td>An intimate and heart-warming look at the man ...</td>\n",
       "      <td>2 nominations.</td>\n",
       "      <td>UK, USA</td>\n",
       "    </tr>\n",
       "    <tr>\n",
       "      <th>45511</th>\n",
       "      <td>4547056</td>\n",
       "      <td>A scientist and a teacher living in a dystopia...</td>\n",
       "      <td>A scientist and a teacher living in a dystopia...</td>\n",
       "      <td>NaN</td>\n",
       "      <td>UK, USA</td>\n",
       "    </tr>\n",
       "    <tr>\n",
       "      <th>45658</th>\n",
       "      <td>4669986</td>\n",
       "      <td>Richard and Mildred Loving, an interracial cou...</td>\n",
       "      <td>Richard and Mildred Loving, an interracial cou...</td>\n",
       "      <td>NaN</td>\n",
       "      <td>UK, USA</td>\n",
       "    </tr>\n",
       "  </tbody>\n",
       "</table>\n",
       "<p>563 rows × 5 columns</p>\n",
       "</div>"
      ],
      "text/plain": [
       "        imdbID                                               plot  \\\n",
       "3126     40321  Uncle Rollo finally retires to the house he wa...   \n",
       "3129     40325  Matt Denant, ex-RAF flier, sentenced to three ...   \n",
       "3286     41329  Arnold Boult is determined to make his son a s...   \n",
       "3517     42757  In 1875 London, young Wheeler (who lives by sc...   \n",
       "3576     43067  The treasure seeking adventures of young Jim H...   \n",
       "...        ...                                                ...   \n",
       "44355  3798628  Follows comedian/author/activist Russell Brand...   \n",
       "44505  3890160  After being coerced into working for a crime b...   \n",
       "44706  4008652  Unprecedented access to Muhammad Ali's persona...   \n",
       "45511  4547056  A scientist and a teacher living in a dystopia...   \n",
       "45658  4669986  Richard and Mildred Loving, an interracial cou...   \n",
       "\n",
       "                                                fullplot  \\\n",
       "3126   Uncle Rollo finally retires to the house he wa...   \n",
       "3129                                                 NaN   \n",
       "3286   Arnold Boult is determined to make his son a s...   \n",
       "3517   In 1875 London, young Wheeler (who lives by sc...   \n",
       "3576   Enchanted by the idea of locating treasure bur...   \n",
       "...                                                  ...   \n",
       "44355  Follows comedian/author/activist Russell Brand...   \n",
       "44505  After being coerced into working for a crime b...   \n",
       "44706  An intimate and heart-warming look at the man ...   \n",
       "45511  A scientist and a teacher living in a dystopia...   \n",
       "45658  Richard and Mildred Loving, an interracial cou...   \n",
       "\n",
       "                                             awards  country  \n",
       "3126                                            NaN  UK, USA  \n",
       "3129                                            NaN  UK, USA  \n",
       "3286   Nominated for 1 Oscar. Another 1 nomination.  UK, USA  \n",
       "3517                                            NaN  UK, USA  \n",
       "3576                                  1 nomination.  UK, USA  \n",
       "...                                             ...      ...  \n",
       "44355                                        1 win.  UK, USA  \n",
       "44505                                           NaN  UK, USA  \n",
       "44706                                2 nominations.  UK, USA  \n",
       "45511                                           NaN  UK, USA  \n",
       "45658                                           NaN  UK, USA  \n",
       "\n",
       "[563 rows x 5 columns]"
      ]
     },
     "execution_count": 24,
     "metadata": {},
     "output_type": "execute_result"
    }
   ],
   "source": [
    "plots[plots['country']=='UK, USA']"
   ]
  },
  {
   "cell_type": "markdown",
   "metadata": {},
   "source": [
    "Because country can have more than one value delimited by a comma, we will split them and apply One-Hot-Encoding as numeric features, columns being unique country value. The value will be 1 if a country appears in that row, 0 if not. It's better than using string value"
   ]
  },
  {
   "cell_type": "code",
   "execution_count": 25,
   "metadata": {},
   "outputs": [
    {
     "name": "stdout",
     "output_type": "stream",
     "text": [
      "longest number of characters in plot columns is 402.0\n",
      "longest number of characters in fullplot columns is 9097.0\n"
     ]
    }
   ],
   "source": [
    "print('longest number of characters in plot columns is {}'.format(plots['plot'].str.len().max()))\n",
    "print('longest number of characters in fullplot columns is {}'.format(plots['fullplot'].str.len().max()))"
   ]
  },
  {
   "cell_type": "markdown",
   "metadata": {},
   "source": [
    "---"
   ]
  },
  {
   "cell_type": "markdown",
   "metadata": {},
   "source": [
    "### Ratings"
   ]
  },
  {
   "cell_type": "code",
   "execution_count": 26,
   "metadata": {},
   "outputs": [
    {
     "data": {
      "text/html": [
       "<div>\n",
       "<style scoped>\n",
       "    .dataframe tbody tr th:only-of-type {\n",
       "        vertical-align: middle;\n",
       "    }\n",
       "\n",
       "    .dataframe tbody tr th {\n",
       "        vertical-align: top;\n",
       "    }\n",
       "\n",
       "    .dataframe thead th {\n",
       "        text-align: right;\n",
       "    }\n",
       "</style>\n",
       "<table border=\"1\" class=\"dataframe\">\n",
       "  <thead>\n",
       "    <tr style=\"text-align: right;\">\n",
       "      <th></th>\n",
       "      <th>tconst</th>\n",
       "      <th>averageRating</th>\n",
       "      <th>numVotes</th>\n",
       "    </tr>\n",
       "  </thead>\n",
       "  <tbody>\n",
       "    <tr>\n",
       "      <th>0</th>\n",
       "      <td>tt0000001</td>\n",
       "      <td>5.6</td>\n",
       "      <td>1694</td>\n",
       "    </tr>\n",
       "    <tr>\n",
       "      <th>1</th>\n",
       "      <td>tt0000002</td>\n",
       "      <td>6.0</td>\n",
       "      <td>210</td>\n",
       "    </tr>\n",
       "    <tr>\n",
       "      <th>2</th>\n",
       "      <td>tt0000003</td>\n",
       "      <td>6.5</td>\n",
       "      <td>1441</td>\n",
       "    </tr>\n",
       "    <tr>\n",
       "      <th>3</th>\n",
       "      <td>tt0000004</td>\n",
       "      <td>6.1</td>\n",
       "      <td>122</td>\n",
       "    </tr>\n",
       "    <tr>\n",
       "      <th>4</th>\n",
       "      <td>tt0000005</td>\n",
       "      <td>6.1</td>\n",
       "      <td>2240</td>\n",
       "    </tr>\n",
       "  </tbody>\n",
       "</table>\n",
       "</div>"
      ],
      "text/plain": [
       "      tconst  averageRating  numVotes\n",
       "0  tt0000001            5.6      1694\n",
       "1  tt0000002            6.0       210\n",
       "2  tt0000003            6.5      1441\n",
       "3  tt0000004            6.1       122\n",
       "4  tt0000005            6.1      2240"
      ]
     },
     "execution_count": 26,
     "metadata": {},
     "output_type": "execute_result"
    }
   ],
   "source": [
    "ratings.head()"
   ]
  },
  {
   "cell_type": "code",
   "execution_count": 27,
   "metadata": {},
   "outputs": [
    {
     "data": {
      "image/png": "[encoded data removed]",
      "text/plain": [
       "<Figure size 1728x576 with 2 Axes>"
      ]
     },
     "metadata": {
      "needs_background": "light"
     },
     "output_type": "display_data"
    }
   ],
   "source": [
    "fig, ax = plt.subplots(1, 2, figsize=(24, 8))\n",
    "\n",
    "ratings['averageRating'].plot(kind='hist', ax=ax[0])\n",
    "ratings['numVotes'].plot(kind='hist', ax=ax[1])\n",
    "\n",
    "plt.show();"
   ]
  },
  {
   "cell_type": "markdown",
   "metadata": {},
   "source": [
    "**numVotes** in ratings are highly skewed, possibly due to outlier"
   ]
  },
  {
   "cell_type": "code",
   "execution_count": 28,
   "metadata": {},
   "outputs": [
    {
     "data": {
      "text/plain": [
       "count    1.048575e+06\n",
       "mean     1.006758e+03\n",
       "std      1.669461e+04\n",
       "min      5.000000e+00\n",
       "25%      9.000000e+00\n",
       "50%      2.000000e+01\n",
       "75%      8.000000e+01\n",
       "max      2.369294e+06\n",
       "Name: numVotes, dtype: float64"
      ]
     },
     "execution_count": 28,
     "metadata": {},
     "output_type": "execute_result"
    }
   ],
   "source": [
    "ratings['numVotes'].describe()"
   ]
  },
  {
   "cell_type": "markdown",
   "metadata": {},
   "source": [
    "Examine movies having less than 100 votes"
   ]
  },
  {
   "cell_type": "code",
   "execution_count": 29,
   "metadata": {},
   "outputs": [
    {
     "data": {
      "text/plain": [
       "<matplotlib.axes._subplots.AxesSubplot at 0x7fdb40666090>"
      ]
     },
     "execution_count": 29,
     "metadata": {},
     "output_type": "execute_result"
    },
    {
     "data": {
      "image/png": "[encoded data removed]",
      "text/plain": [
       "<Figure size 576x432 with 1 Axes>"
      ]
     },
     "metadata": {
      "needs_background": "light"
     },
     "output_type": "display_data"
    }
   ],
   "source": [
    "plt.figure(figsize=(8, 6))\n",
    "ratings[ratings['numVotes']<=100]['numVotes'].plot(kind='hist')"
   ]
  },
  {
   "cell_type": "markdown",
   "metadata": {},
   "source": [
    "---"
   ]
  },
  {
   "cell_type": "markdown",
   "metadata": {},
   "source": [
    "### Netflix"
   ]
  },
  {
   "cell_type": "code",
   "execution_count": 30,
   "metadata": {},
   "outputs": [
    {
     "data": {
      "text/plain": [
       "(7787, 12)"
      ]
     },
     "execution_count": 30,
     "metadata": {},
     "output_type": "execute_result"
    }
   ],
   "source": [
    "netflix.shape"
   ]
  },
  {
   "cell_type": "code",
   "execution_count": 31,
   "metadata": {},
   "outputs": [
    {
     "data": {
      "text/html": [
       "<div>\n",
       "<style scoped>\n",
       "    .dataframe tbody tr th:only-of-type {\n",
       "        vertical-align: middle;\n",
       "    }\n",
       "\n",
       "    .dataframe tbody tr th {\n",
       "        vertical-align: top;\n",
       "    }\n",
       "\n",
       "    .dataframe thead th {\n",
       "        text-align: right;\n",
       "    }\n",
       "</style>\n",
       "<table border=\"1\" class=\"dataframe\">\n",
       "  <thead>\n",
       "    <tr style=\"text-align: right;\">\n",
       "      <th></th>\n",
       "      <th>show_id</th>\n",
       "      <th>type</th>\n",
       "      <th>title</th>\n",
       "      <th>director</th>\n",
       "      <th>cast</th>\n",
       "      <th>country</th>\n",
       "      <th>date_added</th>\n",
       "      <th>release_year</th>\n",
       "      <th>rating</th>\n",
       "      <th>duration</th>\n",
       "      <th>genres</th>\n",
       "      <th>description</th>\n",
       "    </tr>\n",
       "  </thead>\n",
       "  <tbody>\n",
       "    <tr>\n",
       "      <th>0</th>\n",
       "      <td>s1</td>\n",
       "      <td>TV Show</td>\n",
       "      <td>3%</td>\n",
       "      <td>NaN</td>\n",
       "      <td>João Miguel, Bianca Comparato, Michel Gomes, R...</td>\n",
       "      <td>Brazil</td>\n",
       "      <td>14-Aug-20</td>\n",
       "      <td>2020</td>\n",
       "      <td>TV-MA</td>\n",
       "      <td>4</td>\n",
       "      <td>International TV Shows, TV Dramas, TV Sci-Fi &amp;...</td>\n",
       "      <td>In a future where the elite inhabit an island ...</td>\n",
       "    </tr>\n",
       "    <tr>\n",
       "      <th>1</th>\n",
       "      <td>s10</td>\n",
       "      <td>Movie</td>\n",
       "      <td>1920</td>\n",
       "      <td>Vikram Bhatt</td>\n",
       "      <td>Rajneesh Duggal, Adah Sharma, Indraneil Sengup...</td>\n",
       "      <td>India</td>\n",
       "      <td>15-Dec-17</td>\n",
       "      <td>2008</td>\n",
       "      <td>TV-MA</td>\n",
       "      <td>143</td>\n",
       "      <td>Horror Movies, International Movies, Thrillers</td>\n",
       "      <td>An architect and his wife move into a castle t...</td>\n",
       "    </tr>\n",
       "    <tr>\n",
       "      <th>2</th>\n",
       "      <td>s100</td>\n",
       "      <td>Movie</td>\n",
       "      <td>3 Heroines</td>\n",
       "      <td>Iman Brotoseno</td>\n",
       "      <td>Reza Rahadian, Bunga Citra Lestari, Tara Basro...</td>\n",
       "      <td>Indonesia</td>\n",
       "      <td>5-Jan-19</td>\n",
       "      <td>2016</td>\n",
       "      <td>TV-PG</td>\n",
       "      <td>124</td>\n",
       "      <td>Dramas, International Movies, Sports Movies</td>\n",
       "      <td>Three Indonesian women break records by becomi...</td>\n",
       "    </tr>\n",
       "    <tr>\n",
       "      <th>3</th>\n",
       "      <td>s1000</td>\n",
       "      <td>Movie</td>\n",
       "      <td>Blue Mountain State: The Rise of Thadland</td>\n",
       "      <td>Lev L. Spiro</td>\n",
       "      <td>Alan Ritchson, Darin Brooks, James Cade, Rob R...</td>\n",
       "      <td>United States</td>\n",
       "      <td>1-Mar-16</td>\n",
       "      <td>2016</td>\n",
       "      <td>R</td>\n",
       "      <td>90</td>\n",
       "      <td>Comedies</td>\n",
       "      <td>New NFL star Thad buys his old teammates' belo...</td>\n",
       "    </tr>\n",
       "    <tr>\n",
       "      <th>4</th>\n",
       "      <td>s1001</td>\n",
       "      <td>TV Show</td>\n",
       "      <td>Blue Planet II</td>\n",
       "      <td>NaN</td>\n",
       "      <td>David Attenborough</td>\n",
       "      <td>United Kingdom</td>\n",
       "      <td>3-Dec-18</td>\n",
       "      <td>2017</td>\n",
       "      <td>TV-G</td>\n",
       "      <td>1</td>\n",
       "      <td>British TV Shows, Docuseries, Science &amp; Nature TV</td>\n",
       "      <td>This sequel to the award-winning nature series...</td>\n",
       "    </tr>\n",
       "  </tbody>\n",
       "</table>\n",
       "</div>"
      ],
      "text/plain": [
       "  show_id     type                                      title        director  \\\n",
       "0      s1  TV Show                                         3%             NaN   \n",
       "1     s10    Movie                                       1920    Vikram Bhatt   \n",
       "2    s100    Movie                                 3 Heroines  Iman Brotoseno   \n",
       "3   s1000    Movie  Blue Mountain State: The Rise of Thadland    Lev L. Spiro   \n",
       "4   s1001  TV Show                             Blue Planet II             NaN   \n",
       "\n",
       "                                                cast         country  \\\n",
       "0  João Miguel, Bianca Comparato, Michel Gomes, R...          Brazil   \n",
       "1  Rajneesh Duggal, Adah Sharma, Indraneil Sengup...           India   \n",
       "2  Reza Rahadian, Bunga Citra Lestari, Tara Basro...       Indonesia   \n",
       "3  Alan Ritchson, Darin Brooks, James Cade, Rob R...   United States   \n",
       "4                                 David Attenborough  United Kingdom   \n",
       "\n",
       "  date_added  release_year rating  duration  \\\n",
       "0  14-Aug-20          2020  TV-MA         4   \n",
       "1  15-Dec-17          2008  TV-MA       143   \n",
       "2   5-Jan-19          2016  TV-PG       124   \n",
       "3   1-Mar-16          2016      R        90   \n",
       "4   3-Dec-18          2017   TV-G         1   \n",
       "\n",
       "                                              genres  \\\n",
       "0  International TV Shows, TV Dramas, TV Sci-Fi &...   \n",
       "1     Horror Movies, International Movies, Thrillers   \n",
       "2        Dramas, International Movies, Sports Movies   \n",
       "3                                           Comedies   \n",
       "4  British TV Shows, Docuseries, Science & Nature TV   \n",
       "\n",
       "                                         description  \n",
       "0  In a future where the elite inhabit an island ...  \n",
       "1  An architect and his wife move into a castle t...  \n",
       "2  Three Indonesian women break records by becomi...  \n",
       "3  New NFL star Thad buys his old teammates' belo...  \n",
       "4  This sequel to the award-winning nature series...  "
      ]
     },
     "execution_count": 31,
     "metadata": {},
     "output_type": "execute_result"
    }
   ],
   "source": [
    "netflix.head()"
   ]
  },
  {
   "cell_type": "code",
   "execution_count": 32,
   "metadata": {},
   "outputs": [
    {
     "name": "stdout",
     "output_type": "stream",
     "text": [
      "<class 'pandas.core.frame.DataFrame'>\n",
      "RangeIndex: 7787 entries, 0 to 7786\n",
      "Data columns (total 12 columns):\n",
      " #   Column        Non-Null Count  Dtype \n",
      "---  ------        --------------  ----- \n",
      " 0   show_id       7787 non-null   object\n",
      " 1   type          7787 non-null   object\n",
      " 2   title         7787 non-null   object\n",
      " 3   director      5398 non-null   object\n",
      " 4   cast          7069 non-null   object\n",
      " 5   country       7280 non-null   object\n",
      " 6   date_added    7777 non-null   object\n",
      " 7   release_year  7787 non-null   int64 \n",
      " 8   rating        7780 non-null   object\n",
      " 9   duration      7787 non-null   int64 \n",
      " 10  genres        7787 non-null   object\n",
      " 11  description   7787 non-null   object\n",
      "dtypes: int64(2), object(10)\n",
      "memory usage: 730.2+ KB\n"
     ]
    }
   ],
   "source": [
    "netflix.info()"
   ]
  },
  {
   "cell_type": "code",
   "execution_count": 33,
   "metadata": {},
   "outputs": [
    {
     "data": {
      "text/plain": [
       "<matplotlib.axes._subplots.AxesSubplot at 0x7fdb40606910>"
      ]
     },
     "execution_count": 33,
     "metadata": {},
     "output_type": "execute_result"
    },
    {
     "data": {
      "image/png": "[encoded data removed]",
      "text/plain": [
       "<Figure size 1728x432 with 3 Axes>"
      ]
     },
     "metadata": {
      "needs_background": "light"
     },
     "output_type": "display_data"
    }
   ],
   "source": [
    "fig, ax = plt.subplots(1, 3, figsize=(24, 6))\n",
    "\n",
    "netflix['type'].value_counts().plot(kind='barh', ax=ax[0])\n",
    "netflix['country'].value_counts()[:10].plot(kind='barh', ax=ax[1])\n",
    "netflix['rating'].value_counts().plot(kind='barh', ax=ax[2])"
   ]
  },
  {
   "cell_type": "code",
   "execution_count": 34,
   "metadata": {},
   "outputs": [
    {
     "data": {
      "image/png": "[encoded data removed]",
      "text/plain": [
       "<Figure size 576x432 with 1 Axes>"
      ]
     },
     "metadata": {
      "needs_background": "light"
     },
     "output_type": "display_data"
    }
   ],
   "source": [
    "plt.figure(figsize=(8, 6))\n",
    "netflix['duration'].plot(kind='hist')\n",
    "plt.show();"
   ]
  },
  {
   "cell_type": "markdown",
   "metadata": {},
   "source": [
    "Again, just like IMDB titles, their runtime/duration is not normally distributed. Either standardizing or normalizing could help the performance later."
   ]
  }
 ],
 "metadata": {
  "instance_type": "ml.t3.medium",
  "kernelspec": {
   "display_name": "Python 3 (Data Science)",
   "language": "python",
   "name": "python3__SAGEMAKER_INTERNAL__arn:aws:sagemaker:us-east-1:081325390199:image/datascience-1.0"
  },
  "language_info": {
   "codemirror_mode": {
    "name": "ipython",
    "version": 3
   },
   "file_extension": ".py",
   "mimetype": "text/x-python",
   "name": "python",
   "nbconvert_exporter": "python",
   "pygments_lexer": "ipython3",
   "version": "3.7.10"
  }
 },
 "nbformat": 4,
 "nbformat_minor": 4
}
