{
 "cells": [
  {
   "cell_type": "code",
   "execution_count": 4,
   "metadata": {},
   "outputs": [],
   "source": [
    "import pandas as pd\n",
    "import numpy as np\n",
    "import matplotlib.pyplot as plt\n",
    "import os\n",
    "import boto3\n",
    "import fuzzywuzzy\n",
    "import warnings\n",
    "import sklearn\n",
    "import matplotlib\n",
    "\n",
    "warnings.filterwarnings('ignore')\n",
    "\n",
    "pd.set_option(\"display.max_columns\", 50)"
   ]
  },
  {
   "cell_type": "code",
   "execution_count": 5,
   "metadata": {},
   "outputs": [],
   "source": [
    "bucket = 's3://ads508-imdb-data1'\n",
    "\n",
    "names = pd.read_csv(f'{bucket}/ImdbName.csv')\n",
    "akas = pd.read_csv(f'{bucket}/ImdbTitleAkas.csv')\n",
    "titles = pd.read_csv(f'{bucket}/ImdbTitleBasics.csv')\n",
    "crew = pd.read_csv(f'{bucket}/ImdbTitleCrew.csv')\n",
    "episode = pd.read_csv(f'{bucket}/ImdbTitleEpisode.csv')\n",
    "principals = pd.read_csv(f'{bucket}/ImdbTitlePrincipals.csv')\n",
    "ratings = pd.read_csv(f'{bucket}/ImdbTitleRatings.csv')\n",
    "plots = pd.read_csv(f'{bucket}/movies_initial.csv')\n",
    "netflix = pd.read_csv(f'{bucket}/NetFlix.csv')"
   ]
  },
  {
   "cell_type": "code",
   "execution_count": 6,
   "metadata": {},
   "outputs": [
    {
     "data": {
      "text/plain": [
       "((1048575, 6),\n",
       " (1048575, 8),\n",
       " (1048575, 9),\n",
       " (1048575, 3),\n",
       " (5652641, 4),\n",
       " (1048575, 6),\n",
       " (1048575, 3),\n",
       " (46014, 21),\n",
       " (7787, 12))"
      ]
     },
     "execution_count": 6,
     "metadata": {},
     "output_type": "execute_result"
    }
   ],
   "source": [
    "names.shape, akas.shape, titles.shape, crew.shape, episode.shape, principals.shape, ratings.shape, plots.shape, netflix.shape"
   ]
  },
  {
   "cell_type": "code",
   "execution_count": 8,
   "metadata": {},
   "outputs": [
    {
     "data": {
      "text/plain": [
       "['show_id',\n",
       " 'type',\n",
       " 'title',\n",
       " 'director',\n",
       " 'cast',\n",
       " 'country',\n",
       " 'date_added',\n",
       " 'release_year',\n",
       " 'rating',\n",
       " 'duration',\n",
       " 'genres',\n",
       " 'description']"
      ]
     },
     "execution_count": 8,
     "metadata": {},
     "output_type": "execute_result"
    }
   ],
   "source": [
    "data_top = netflix.head()\n",
    "list(netflix.columns)\n",
    "\n"
   ]
  },
  {
   "cell_type": "markdown",
   "metadata": {},
   "source": [
    "### String Compare\n"
   ]
  },
  {
   "cell_type": "code",
   "execution_count": null,
   "metadata": {},
   "outputs": [],
   "source": [
    "from fuzzywuzzy import fuzz\n",
    "\n",
    "\n",
    "def Str_cmpr_pct():\n",
    "Str1 = store1\n",
    "Str2 = store2\n",
    "Distance = levenshtein_ratio_and_distance(Str1.lower(),Str2.lower())\n",
    "print(Distance)\n",
    "Ratio = levenshtein_ratio_and_distance(Str1.lower(),Str2.lower(),ratio_calc = True)\n",
    "print(Ratio)"
   ]
  }
 ],
 "metadata": {
  "instance_type": "ml.t3.medium",
  "kernelspec": {
   "display_name": "Python 3 (Data Science)",
   "language": "python",
   "name": "python3__SAGEMAKER_INTERNAL__arn:aws:sagemaker:us-east-1:081325390199:image/datascience-1.0"
  },
  "language_info": {
   "codemirror_mode": {
    "name": "ipython",
    "version": 3
   },
   "file_extension": ".py",
   "mimetype": "text/x-python",
   "name": "python",
   "nbconvert_exporter": "python",
   "pygments_lexer": "ipython3",
   "version": "3.7.10"
  }
 },
 "nbformat": 4,
 "nbformat_minor": 4
}
